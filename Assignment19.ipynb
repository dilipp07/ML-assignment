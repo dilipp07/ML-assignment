{
 "cells": [
  {
   "cell_type": "markdown",
   "id": "111120c6",
   "metadata": {},
   "source": [
    "# 1. A set of one-dimensional data points is given to you: 5, 10, 15, 20, 25, 30, 35. Assume that k = 2 and that the first set of random centroid is 15, 32, and that the second set is 12, 30. ?\n",
    "# 1. Using the k-means method, create two clusters for each set of centroid described above.\n",
    "# 2. For each set of centroid values, calculate the SSE."
   ]
  },
  {
   "cell_type": "code",
   "execution_count": 1,
   "id": "fdf0f628",
   "metadata": {},
   "outputs": [
    {
     "name": "stdout",
     "output_type": "stream",
     "text": [
      "Clusters (Set 1): {0: [5, 10, 15, 20], 1: [25, 30, 35]}\n",
      "SSE (Set 1): 212\n",
      "Clusters (Set 2): {0: [5, 10, 15, 20], 1: [25, 30, 35]}\n",
      "SSE (Set 2): 176\n"
     ]
    }
   ],
   "source": [
    "import numpy as np\n",
    "\n",
    "# Given data points\n",
    "data_points = np.array([5, 10, 15, 20, 25, 30, 35])\n",
    "\n",
    "# Number of clusters (k)\n",
    "k = 2\n",
    "\n",
    "# Initial centroid sets\n",
    "centroid_set_1 = np.array([15, 32])\n",
    "centroid_set_2 = np.array([12, 30])\n",
    "\n",
    "def k_means_clustering(data_points, centroids):\n",
    "    clusters = {}\n",
    "    for i in range(k):\n",
    "        clusters[i] = []\n",
    "\n",
    "    # Assign data points to clusters based on the nearest centroid\n",
    "    for point in data_points:\n",
    "        distances = [np.abs(point - centroid) for centroid in centroids]\n",
    "        nearest_centroid = np.argmin(distances)\n",
    "        clusters[nearest_centroid].append(point)\n",
    "\n",
    "    return clusters\n",
    "\n",
    "def calculate_sse(clusters, centroids):\n",
    "    sse = 0\n",
    "    for i in range(k):\n",
    "        cluster_points = np.array(clusters[i])\n",
    "        sse += np.sum((cluster_points - centroids[i]) ** 2)\n",
    "\n",
    "    return sse\n",
    "\n",
    "# Cluster the data points using the first centroid set (15, 32)\n",
    "clusters_set_1 = k_means_clustering(data_points, centroid_set_1)\n",
    "sse_set_1 = calculate_sse(clusters_set_1, centroid_set_1)\n",
    "print(\"Clusters (Set 1):\", clusters_set_1)\n",
    "print(\"SSE (Set 1):\", sse_set_1)\n",
    "\n",
    "# Cluster the data points using the second centroid set (12, 30)\n",
    "clusters_set_2 = k_means_clustering(data_points, centroid_set_2)\n",
    "sse_set_2 = calculate_sse(clusters_set_2, centroid_set_2)\n",
    "print(\"Clusters (Set 2):\", clusters_set_2)\n",
    "print(\"SSE (Set 2):\", sse_set_2)\n"
   ]
  },
  {
   "cell_type": "markdown",
   "id": "4ae857d4",
   "metadata": {},
   "source": [
    "# 2. Describe how the Market Basket Research makes use of association analysis concepts ?"
   ]
  },
  {
   "cell_type": "markdown",
   "id": "e5f90466",
   "metadata": {},
   "source": [
    "Market Basket Analysis (MBA) uses association analysis concepts to identify relationships between items frequently purchased together by customers. It involves finding frequent itemsets (combinations of items) and generating association rules based on support and confidence metrics. MBA helps businesses make strategic decisions such as product placement and promotions to increase sales and customer satisfaction."
   ]
  },
  {
   "cell_type": "markdown",
   "id": "c981ac1e",
   "metadata": {},
   "source": [
    "# 3. Give an example of the Apriori algorithm for learning association rules ?"
   ]
  },
  {
   "cell_type": "code",
   "execution_count": 2,
   "id": "f53aa856",
   "metadata": {},
   "outputs": [
    {
     "name": "stdout",
     "output_type": "stream",
     "text": [
      "Frequent Itemsets:\n",
      "frozenset({'Diaper'})\n",
      "frozenset({'Milk'})\n",
      "frozenset({'Bread'})\n",
      "frozenset({'Beer'})\n",
      "frozenset({'Diaper', 'Milk'})\n",
      "frozenset({'Milk', 'Bread'})\n",
      "\n",
      "Association Rules:\n",
      "('Diaper',) => frozenset({'Milk'}), Confidence = 1.00\n",
      "('Milk',) => frozenset({'Diaper'}), Confidence = 0.75\n",
      "('Milk',) => frozenset({'Bread'}), Confidence = 0.75\n",
      "('Bread',) => frozenset({'Milk'}), Confidence = 0.75\n"
     ]
    }
   ],
   "source": [
    "from itertools import combinations\n",
    "from collections import defaultdict\n",
    "\n",
    "def find_frequent_1_itemsets(transactions, minsup):\n",
    "    item_counts = defaultdict(int)\n",
    "    for transaction in transactions:\n",
    "        for item in transaction:\n",
    "            item_counts[item] += 1\n",
    "    \n",
    "    frequent_1_itemsets = {frozenset([item]): count for item, count in item_counts.items() if count >= minsup}\n",
    "    return frequent_1_itemsets\n",
    "\n",
    "def generate_candidate_k_itemsets(prev_frequent_itemsets, k):\n",
    "    candidate_k_itemsets = set()\n",
    "    for itemset1 in prev_frequent_itemsets:\n",
    "        for itemset2 in prev_frequent_itemsets:\n",
    "            if len(itemset1.union(itemset2)) == k:\n",
    "                candidate_k_itemsets.add(itemset1.union(itemset2))\n",
    "    return candidate_k_itemsets\n",
    "\n",
    "def calculate_support(transaction, itemset):\n",
    "    return sum(1 for t in transaction if itemset.issubset(t))\n",
    "\n",
    "def apriori(transactions, minsup, minconf):\n",
    "    frequent_itemsets = []\n",
    "    k = 1\n",
    "    transaction_set = [set(t) for t in transactions]\n",
    "\n",
    "    frequent_k_itemsets = find_frequent_1_itemsets(transaction_set, minsup)\n",
    "    while frequent_k_itemsets:\n",
    "        frequent_itemsets.extend(frequent_k_itemsets)\n",
    "        k += 1\n",
    "        candidate_k_itemsets = generate_candidate_k_itemsets(frequent_k_itemsets, k)\n",
    "        frequent_k_itemsets = {itemset: calculate_support(transaction_set, itemset) for itemset in candidate_k_itemsets if calculate_support(transaction_set, itemset) >= minsup}\n",
    "    \n",
    "    association_rules = []\n",
    "    for itemset in frequent_itemsets:\n",
    "        if len(itemset) > 1:\n",
    "            for i in range(1, len(itemset)):\n",
    "                for lhs in combinations(itemset, i):\n",
    "                    rhs = itemset.difference(lhs)\n",
    "                    support_lhs = calculate_support(transaction_set, set(lhs))\n",
    "                    support_itemset = calculate_support(transaction_set, itemset)\n",
    "                    confidence = support_itemset / support_lhs\n",
    "                    if confidence >= minconf:\n",
    "                        association_rules.append((lhs, rhs, confidence))\n",
    "    \n",
    "    return frequent_itemsets, association_rules\n",
    "\n",
    "# Example usage\n",
    "transactions = [\n",
    "    ['Bread', 'Milk', 'Diaper'],\n",
    "    ['Bread', 'Beer'],\n",
    "    ['Milk', 'Diaper', 'Beer', 'Eggs'],\n",
    "    ['Bread', 'Milk', 'Beer'],\n",
    "    ['Bread', 'Milk', 'Diaper', 'Coke']\n",
    "]\n",
    "\n",
    "minsup = 3\n",
    "minconf = 0.5\n",
    "\n",
    "frequent_itemsets, association_rules = apriori(transactions, minsup, minconf)\n",
    "\n",
    "print(\"Frequent Itemsets:\")\n",
    "for itemset in frequent_itemsets:\n",
    "    print(itemset)\n",
    "\n",
    "print(\"\\nAssociation Rules:\")\n",
    "for lhs, rhs, confidence in association_rules:\n",
    "    print(f\"{lhs} => {rhs}, Confidence = {confidence:.2f}\")\n"
   ]
  },
  {
   "cell_type": "markdown",
   "id": "07ab2a64",
   "metadata": {},
   "source": [
    "# 4. In hierarchical clustering, how is the distance between clusters measured? Explain how this metric is used to decide when to end the iteration ?"
   ]
  },
  {
   "cell_type": "markdown",
   "id": "9b0e3ae0",
   "metadata": {},
   "source": [
    "In hierarchical clustering, the distance between clusters is measured using various distance metrics. The choice of distance metric depends on the type of data and the specific clustering problem. The two most commonly used distance metrics are:\n",
    "\n",
    "Euclidean Distance: This metric measures the straight-line distance between two points in a Euclidean space. For a set of n-dimensional points (x1, x2, ..., xn) and (y1, y2, ..., yn), the Euclidean distance is calculated as follows:\n",
    "Euclidean Distance\n",
    "\n",
    "Manhattan Distance: Also known as city block distance or L1 norm, this metric measures the sum of the absolute differences between the corresponding coordinates of two points. For a set of n-dimensional points (x1, x2, ..., xn) and (y1, y2, ..., yn), the Manhattan distance is calculated as follows:\n",
    "Manhattan Distance\n",
    "\n",
    "Other distance metrics like Minkowski distance, correlation distance, and cosine similarity can also be used based on the nature of the data and the specific requirements of the clustering task.\n",
    "\n",
    "The iteration in hierarchical clustering continues until all data points are assigned to a single cluster (single-linkage) or until all data points are merged into a single cluster (complete-linkage). The iteration process involves the following steps:\n",
    "\n",
    "Initially, each data point is considered as an individual cluster.\n",
    "The algorithm computes the distance matrix between all clusters (based on the chosen distance metric).\n",
    "It then merges the two closest clusters into a new cluster.\n",
    "The distance matrix is updated to consider the new cluster and its distance from other clusters.\n",
    "Steps 3 and 4 are repeated iteratively until all data points are in a single cluster or until a predefined stopping criterion is met.\n",
    "The stopping criterion to decide when to end the iteration can be set in different ways, such as specifying the desired number of clusters (k) or using a threshold value for the distance between clusters. For example, the iteration can stop when the distance between the two closest clusters exceeds a certain threshold, indicating that the clusters are too dissimilar to be merged further.\n",
    "\n",
    "By using different distance metrics and defining appropriate stopping criteria, hierarchical clustering can produce clusters that suitably represent the underlying patterns in the data."
   ]
  },
  {
   "cell_type": "markdown",
   "id": "0be2162e",
   "metadata": {},
   "source": [
    "# 5. In the k-means algorithm, how do you recompute the cluster centroids ?"
   ]
  },
  {
   "cell_type": "markdown",
   "id": "c54c3931",
   "metadata": {},
   "source": [
    "In the k-means algorithm, the process of recomputing the cluster centroids is a crucial step that occurs during each iteration. After assigning data points to clusters based on their proximity to the current centroids, the cluster centroids are updated to the mean (average) of the data points belonging to each cluster. The steps for recomputing the cluster centroids are as follows:\n",
    "\n",
    "Assignment Step:\n",
    "For each data point, calculate its distance to each of the current cluster centroids and assign the data point to the cluster whose centroid is the closest.\n",
    "\n",
    "Update Step:\n",
    "After all data points are assigned to clusters, compute the new centroids for each cluster by taking the mean of the data points in that cluster along each dimension. This results in the new centroid coordinates, representing the center of the cluster.\n",
    "\n",
    "The formulas for updating the cluster centroids are as follows:\n",
    "\n",
    "Let C_i represent the set of data points in cluster i, and n_i be the number of data points in cluster i.\n",
    "\n",
    "For each dimension (dimension d), the updated centroid coordinate c_d^new for cluster i is computed as:\n",
    "\n",
    "c_d^new = (sum of all data points' coordinate values in dimension d in cluster C_i) / n_i\n",
    "\n",
    "The process is repeated iteratively, with data points being reassigned to the nearest centroids and the centroids being updated accordingly, until convergence is achieved. Convergence is reached when the cluster assignments and centroids no longer change significantly between iterations or when a predefined maximum number of iterations is reached.\n",
    "\n",
    "Recomputing the cluster centroids in the k-means algorithm helps find the optimal centers of the clusters, which in turn leads to more accurate and stable cluster assignments. This iterative process converges to a solution where the centroids represent the centers of distinct clusters in the data space. The resulting clusters are defined by their centroids, and the data points within each cluster are relatively close to their corresponding centroid."
   ]
  },
  {
   "cell_type": "markdown",
   "id": "a96163dd",
   "metadata": {},
   "source": [
    "# 6. At the start of the clustering exercise, discuss one method for determining the required number of clusters ?"
   ]
  },
  {
   "cell_type": "markdown",
   "id": "f2364889",
   "metadata": {},
   "source": [
    "One common method for determining the required number of clusters at the start of a clustering exercise is the \"Elbow Method.\" The Elbow Method is a heuristic approach that helps identify the optimal number of clusters by analyzing the variance explained as a function of the number of clusters.\n",
    "\n",
    "Here's how the Elbow Method works:\n",
    "\n",
    "1. Choose a range of values for the number of clusters (k): Start with a small value (e.g., k = 1) and gradually increase the number of clusters (e.g., up to a reasonable maximum value) based on the specific problem and domain knowledge.\n",
    "\n",
    "2. Apply the clustering algorithm: Use the chosen clustering algorithm (e.g., k-means, hierarchical clustering, etc.) to cluster the data for each value of k.\n",
    "\n",
    "3. Compute the Within-Cluster Sum of Squares (WCSS): For each value of k, calculate the sum of squared distances between each data point and its cluster centroid. This value is also known as the Within-Cluster Sum of Squares (WCSS).\n",
    "\n",
    "4. Plot the WCSS against the number of clusters: Create a line plot or a scatter plot where the x-axis represents the number of clusters (k), and the y-axis represents the corresponding WCSS values.\n",
    "\n",
    "5. Identify the \"elbow point\": Look for the point on the plot where the rate of decrease in WCSS starts to slow down significantly. The \"elbow point\" is the value of k where the curve forms an elbow-like bend.\n",
    "\n",
    "6. Choose the number of clusters: The optimal number of clusters is often considered to be the value of k at the \"elbow point.\" This point indicates a significant reduction in WCSS, which implies that adding more clusters beyond this value may not result in significant improvement in clustering performance.\n",
    "\n",
    "However, it's essential to note that the Elbow Method is not always definitive, especially when dealing with complex datasets or non-spherical clusters. Sometimes, the plot may not show a clear elbow, or the elbow point might not correspond to the most meaningful number of clusters. In such cases, other methods like the Silhouette Score, Davies-Bouldin Index, or Gap Statistics can be used to complement the determination of the optimal number of clusters.\n",
    "\n",
    "Additionally, domain knowledge and the specific goals of the clustering exercise should always be considered when deciding on the appropriate number of clusters. The optimal number of clusters might not always be a single fixed value but can vary based on the problem context and objectives."
   ]
  },
  {
   "cell_type": "markdown",
   "id": "6b3b649e",
   "metadata": {},
   "source": [
    "# 7. Discuss the k-means algorithm's advantages and disadvantages ?"
   ]
  },
  {
   "cell_type": "markdown",
   "id": "9e8fff0f",
   "metadata": {},
   "source": [
    "The k-means algorithm is a popular and widely used clustering technique due to its simplicity and efficiency. However, it also has certain advantages and disadvantages that are important to consider:\n",
    "\n",
    "Advantages of the k-means algorithm:\n",
    "\n",
    "1. Simplicity: The k-means algorithm is relatively easy to understand and implement. It is a straightforward and intuitive clustering method.\n",
    "\n",
    "2. Efficiency: K-means is computationally efficient and can handle large datasets with relatively low computational cost, making it suitable for clustering tasks in real-time or with limited computational resources.\n",
    "\n",
    "3. Scalability: The algorithm's time complexity is linear with the number of data points and the number of clusters, making it scalable to large datasets.\n",
    "\n",
    "4. Guaranteed Convergence: The k-means algorithm is guaranteed to converge to a local optimum, although the result may depend on the initial placement of centroids.\n",
    "\n",
    "5. Interpretable Results: The resulting clusters have clear centroids, which are easy to interpret and provide insights into the data distribution.\n",
    "\n",
    "Disadvantages of the k-means algorithm:\n",
    "\n",
    "1. Sensitive to Initial Centroids: The final clustering solution can be influenced by the initial placement of centroids. Different initializations may lead to different results, and the algorithm can converge to suboptimal solutions.\n",
    "\n",
    "2. Assumes Spherical Clusters: K-means assumes that clusters are spherical and isotropic, which may not be suitable for complex and irregularly shaped clusters.\n",
    "\n",
    "3. Fixed Number of Clusters: The k-means algorithm requires the number of clusters (k) to be specified beforehand, which may not always be known or obvious. Selecting an inappropriate value for k can lead to less meaningful clustering results.\n",
    "\n",
    "4. Sensitive to Outliers: K-means is sensitive to outliers in the data, which can significantly affect the position of centroids and the formation of clusters.\n",
    "\n",
    "5. Non-Robust to Noise: The algorithm may not work well with noisy data or data containing overlapping clusters.\n",
    "\n",
    "6. Unbalanced Cluster Sizes: K-means can produce clusters with significantly different sizes, leading to unbalanced results, especially if the clusters have varying densities.\n",
    "\n",
    "7. Not Suitable for Non-Linear Data: K-means performs poorly on data with non-linear relationships between features, as it assumes a linear separation boundary.\n",
    "\n",
    "In summary, the k-means algorithm is a simple and efficient clustering technique that can handle large datasets. It provides interpretable results with clear centroids. However, its sensitivity to initial centroids and the requirement to specify the number of clusters beforehand are some of the limitations that should be considered when choosing the appropriate clustering method for a given dataset and problem."
   ]
  },
  {
   "cell_type": "markdown",
   "id": "54020cf8",
   "metadata": {},
   "source": [
    "# 8. Draw a diagram to demonstrate the principle of clustering ?"
   ]
  },
  {
   "cell_type": "code",
   "execution_count": 3,
   "id": "0a6a9faa",
   "metadata": {},
   "outputs": [
    {
     "name": "stderr",
     "output_type": "stream",
     "text": [
      "/tmp/ipykernel_860/4069290884.py:17: UserWarning: No data for colormapping provided via 'c'. Parameters 'cmap' will be ignored\n",
      "  plt.scatter(data[:, 0], data[:, 1], s=50, edgecolors='k', cmap='viridis')\n"
     ]
    },
    {
     "data": {
      "image/png": "[encoded data removed]",
      "text/plain": [
       "<Figure size 800x600 with 1 Axes>"
      ]
     },
     "metadata": {},
     "output_type": "display_data"
    }
   ],
   "source": [
    "import matplotlib.pyplot as plt\n",
    "import numpy as np\n",
    "\n",
    "# Generate random data points forming clusters\n",
    "np.random.seed(0)\n",
    "num_clusters = 3\n",
    "num_points_per_cluster = 50\n",
    "\n",
    "data = np.empty((num_clusters * num_points_per_cluster, 2))\n",
    "\n",
    "for i in range(num_clusters):\n",
    "    center = 10 * np.random.rand(2)\n",
    "    data[i*num_points_per_cluster:(i+1)*num_points_per_cluster] = center + 2 * np.random.randn(num_points_per_cluster, 2)\n",
    "\n",
    "# Plot the scatter plot\n",
    "plt.figure(figsize=(8, 6))\n",
    "plt.scatter(data[:, 0], data[:, 1], s=50, edgecolors='k', cmap='viridis')\n",
    "plt.xlabel('Feature 1')\n",
    "plt.ylabel('Feature 2')\n",
    "plt.title('Principle of Clustering')\n",
    "plt.grid(True)\n",
    "plt.show()\n"
   ]
  },
  {
   "cell_type": "markdown",
   "id": "2e392174",
   "metadata": {},
   "source": [
    "In the diagram, we have a two-dimensional scatter plot representing a set of data points. Each data point is depicted as a dot on the graph. The horizontal axis (X-axis) represents one feature of the data, and the vertical axis (Y-axis) represents another feature.\n",
    "\n",
    "The data points on the scatter plot are spread across the graph, forming a pattern with some clusters or groupings. These clusters are regions in which the data points are more densely packed together compared to other areas.\n",
    "\n",
    "The principle of clustering is to identify these clusters or groups of data points based on their proximity or similarity in the feature space. Clustering algorithms aim to partition the data into these distinct clusters so that data points within the same cluster are more similar to each other, while data points in different clusters are dissimilar.\n",
    "\n",
    "The clusters on the scatter plot may have different shapes, sizes, and densities, depending on the nature of the data and the number of clusters in the dataset.\n",
    "\n",
    "By applying clustering algorithms like k-means, hierarchical clustering, or density-based clustering, we can separate the data points into meaningful clusters. The algorithm iteratively groups data points based on distance, similarity, or density, and updates the cluster assignments until convergence.\n",
    "\n",
    "Once the clustering process is complete, the scatter plot will show different colors or symbols for each cluster, making it easy to distinguish between the identified groups.\n",
    "\n",
    "In summary, the diagram visually represents how clustering works by identifying natural clusters or patterns within the data, which helps in organizing and understanding the underlying structure of the dataset. Clustering allows us to group similar data points together, facilitating data analysis and pattern recognition."
   ]
  },
  {
   "cell_type": "markdown",
   "id": "9db681d1",
   "metadata": {},
   "source": [
    "# 9. During your study, you discovered seven findings, which are listed in the data points below. Using the K-means algorithm, you want to build three clusters from these observations. The clusters C1, C2, and C3 have the following findings after the first iteration ?\n",
    "- `C1: (2,2), (4,4), (6,6); C2: (2,2), (4,4), (6,6); C3: (2,2), (4,4),  `\n",
    "- `C2: (0,4), (4,0), (0,4), (0,4), (0,4), (0,4), (0,4), (0,4), (0,  `\n",
    "- `C3: (5,5) and (9,9) ` \n",
    "\n",
    "# What would the cluster centroids be if you were to run a second iteration? What would this clustering's SSE be?"
   ]
  },
  {
   "cell_type": "markdown",
   "id": "fc119cf3",
   "metadata": {},
   "source": [
    "To compute the cluster centroids after the second iteration, we need to take the mean (average) of the data points in each cluster. Additionally, we will calculate the Sum of Squared Errors (SSE) for this clustering.\n",
    "\n",
    "First, let's calculate the cluster centroids after the second iteration:\n",
    "\n",
    "- C1: (2, 2), (4, 4), (6, 6) => Centroid = ((2+4+6)/3, (2+4+6)/3) = (4, 4)\n",
    "- C2: (0, 4), (4, 0), (0, 4), (0, 4), (0, 4), (0, 4), (0, 4), (0, 4), (0, 0) => Centroid = ((0+4+0+0+0+0+0+0+0)/9, (4+0+4+4+4+4+4+4+0)/9) = (0.44, 3.11)\n",
    "- C3: (5, 5), (9, 9) => Centroid = ((5+9)/2, (5+9)/2) = (7, 7)\n",
    "\n",
    "Now, let's calculate the Sum of Squared Errors (SSE) for this clustering:\n",
    "\n",
    "SSE = Σ (distance between data point and its cluster centroid)^2\n",
    "\n",
    "- SSE = (distance((2, 2), (4, 4))^2 + distance((4, 4), (4, 4))^2 + distance((6, 6), (4, 4))^2) +\n",
    "        (distance((0, 4), (0.44, 3.11))^2 + distance((4, 0), (0.44, 3.11))^2 + distance((0, 4), (0.44, 3.11))^2 +\n",
    "         distance((0, 4), (0.44, 3.11))^2 + distance((0, 4), (0.44, 3.11))^2 + distance((0, 4), (0.44, 3.11))^2 +\n",
    "         distance((0, 4), (0.44, 3.11))^2 + distance((0, 4), (0.44, 3.11))^2 + distance((0, 0), (0.44, 3.11))^2) +\n",
    "        (distance((5, 5), (7, 7))^2 + distance((9, 9), (7, 7))^2)\n",
    "\n",
    "For simplicity, let's assume the Euclidean distance as the distance metric:\n",
    "\n",
    "- SSE = ((2-4)^2 + (4-4)^2 + (6-4)^2) + ((0-0.44)^2 + (4-3.11)^2 + (0-0.44)^2 + (0-0.44)^2 + (0-0.44)^2 + (0-0.44)^2 +\n",
    "        (0-0.44)^2 + (0-0.44)^2 + (0-0)^2) + ((5-7)^2 + (9-7)^2)\n",
    "\n",
    "- SSE = (4 + 0 + 4) + (0.1936 + 0.7741 + 0.1936 + 0.1936 + 0.1936 + 0.1936 + 0.1936 + 0.1936 + 0) + (4 + 4)\n",
    "\n",
    "- SSE = 8 + 2.9 + 8\n",
    "\n",
    "- SSE = 18.9\n",
    "\n",
    "So, after the second iteration, the cluster centroids would be: C1: (4, 4), C2: (0.44, 3.11), C3: (7, 7), and the SSE would be 18.9."
   ]
  },
  {
   "cell_type": "markdown",
   "id": "5b686929",
   "metadata": {},
   "source": [
    "# 10. In a software project, the team is attempting to determine if software flaws discovered during testing are identical. Based on the text analytics of the defect details, they decided to build 5 clusters of related defects. Any new defect formed after the 5 clusters of defects have been identified must be listed as one of the forms identified by clustering. A simple diagram can be used to explain this process. Assume you have 20 defect data points that are clustered into 5 clusters and you used the k-means algorithm ?"
   ]
  },
  {
   "cell_type": "code",
   "execution_count": 7,
   "id": "dcdb4cab",
   "metadata": {},
   "outputs": [
    {
     "data": {
      "image/png": "[encoded data removed]",
      "text/plain": [
       "<Figure size 800x600 with 1 Axes>"
      ]
     },
     "metadata": {},
     "output_type": "display_data"
    },
    {
     "name": "stdout",
     "output_type": "stream",
     "text": [
      "New defect [[3 3]] belongs to Cluster 2\n"
     ]
    }
   ],
   "source": [
    "import numpy as np\n",
    "import matplotlib.pyplot as plt\n",
    "\n",
    "def kmeans_clustering(data, num_clusters, num_iterations):\n",
    "    # Randomly initialize cluster centroids\n",
    "    np.random.seed(0)\n",
    "    centroids = data[np.random.choice(data.shape[0], num_clusters, replace=False)]\n",
    "    \n",
    "    for _ in range(num_iterations):\n",
    "        # Assign data points to the nearest centroids\n",
    "        distances = np.sqrt(((data - centroids[:, np.newaxis])**2).sum(axis=2))\n",
    "        cluster_labels = np.argmin(distances, axis=0)\n",
    "        \n",
    "        # Update cluster centroids\n",
    "        for i in range(num_clusters):\n",
    "            centroids[i] = np.mean(data[cluster_labels == i], axis=0)\n",
    "    \n",
    "    return cluster_labels, centroids\n",
    "\n",
    "# Generate random defect data points (replace this with your actual defect data)\n",
    "np.random.seed(0)\n",
    "num_defects = 20\n",
    "defect_data = np.random.rand(num_defects, 2) * 10\n",
    "\n",
    "# Number of clusters to form\n",
    "num_clusters = 5\n",
    "\n",
    "# Number of iterations for k-means\n",
    "num_iterations = 100\n",
    "\n",
    "# Perform k-means clustering\n",
    "cluster_labels, cluster_centers = kmeans_clustering(defect_data, num_clusters, num_iterations)\n",
    "\n",
    "# Scatter plot of defect data with clusters\n",
    "plt.figure(figsize=(8, 6))\n",
    "plt.scatter(defect_data[:, 0], defect_data[:, 1], c=cluster_labels, cmap='viridis', s=100, edgecolors='k')\n",
    "plt.scatter(cluster_centers[:, 0], cluster_centers[:, 1], c='red', marker='x', s=200, label='Cluster Centers')\n",
    "plt.xlabel('Feature 1')\n",
    "plt.ylabel('Feature 2')\n",
    "plt.title('Clustering Software Defects with K-means')\n",
    "plt.legend()\n",
    "plt.grid(True)\n",
    "plt.show()\n",
    "\n",
    "# New defect data point\n",
    "new_defect = np.array([[3, 3]])\n",
    "\n",
    "# Assign the new defect to the nearest cluster\n",
    "distances = np.sqrt(((new_defect - cluster_centers)**2).sum(axis=1))\n",
    "nearest_cluster = np.argmin(distances)\n",
    "\n",
    "print(f\"New defect {new_defect} belongs to Cluster {nearest_cluster + 1}\")\n",
    "\n"
   ]
  },
  {
   "cell_type": "markdown",
   "id": "eafb591f",
   "metadata": {},
   "source": [
    "In this demonstration, we generate random defect data points and perform k-means clustering to form 5 clusters. The scatter plot visualizes the clustering results with data points colored according to their assigned clusters, and the cluster centroids are marked with red \"x\" symbols.\n",
    "\n",
    "After the initial clustering, we introduce a new defect data point (new_defect) with features (3, 3). We then calculate the distance between this new defect and the cluster centroids, and assign it to the nearest cluster based on its proximity.\n",
    "\n",
    "When you run the code, you will see the scatter plot showing the initial clustering of defects. The program will also print which cluster the new defect belongs to, demonstrating how new defects can be assigned to the existing clusters based on the k-means clustering results."
   ]
  },
  {
   "cell_type": "markdown",
   "id": "433904cb",
   "metadata": {},
   "source": []
  }
 ],
 "metadata": {
  "kernelspec": {
   "display_name": "Python 3.8.10 64-bit",
   "language": "python",
   "name": "python3"
  },
  "language_info": {
   "codemirror_mode": {
    "name": "ipython",
    "version": 3
   },
   "file_extension": ".py",
   "mimetype": "text/x-python",
   "name": "python",
   "nbconvert_exporter": "python",
   "pygments_lexer": "ipython3",
   "version": "3.8.10"
  },
  "vscode": {
   "interpreter": {
    "hash": "e7370f93d1d0cde622a1f8e1c04877d8463912d04d973331ad4851f04de6915a"
   }
  }
 },
 "nbformat": 4,
 "nbformat_minor": 5
}
